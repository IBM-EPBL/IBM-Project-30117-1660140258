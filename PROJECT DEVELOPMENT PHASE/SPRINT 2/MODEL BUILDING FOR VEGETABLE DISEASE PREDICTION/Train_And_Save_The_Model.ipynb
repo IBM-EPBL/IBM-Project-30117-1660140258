{
  "cells": [
    {
      "cell_type": "markdown",
      "metadata": {
        "id": "RXPCU7C-MIAz"
      },
      "source": [
        "import the libraries"
      ]
    },
    {
      "cell_type": "code",
      "execution_count": 18,
      "metadata": {
        "id": "EwwV3wwYMDS3"
      },
      "outputs": [],
      "source": [
        "from tensorflow.keras.preprocessing.image import ImageDataGenerator\n",
        "from tensorflow.keras.models import Sequential\n",
        "from tensorflow.keras.layers import Dense,Convolution2D,MaxPooling2D,Flatten \n",
        "import numpy as np\n",
        "from tensorflow.keras.models import load_model\n",
        "from tensorflow.keras.preprocessing import image"
      ]
    },
    {
      "cell_type": "markdown",
      "metadata": {
        "id": "QhCXB6urML_U"
      },
      "source": [
        "image augmentation"
      ]
    },
    {
      "cell_type": "code",
      "execution_count": 1,
      "metadata": {
        "id": "GapGANa9ehlS"
      },
      "outputs": [],
      "source": [
        "from tensorflow.keras.preprocessing.image import ImageDataGenerator"
      ]
    },
    {
      "cell_type": "code",
      "execution_count": 2,
      "metadata": {
        "id": "zZ80n86-e4St"
      },
      "outputs": [],
      "source": [
        "train_datagen=ImageDataGenerator(rescale=1./255,zoom_range=0.2,horizontal_flip=True,vertical_flip=False)"
      ]
    },
    {
      "cell_type": "code",
      "execution_count": 3,
      "metadata": {
        "id": "DxvRBb4Ge4Ym"
      },
      "outputs": [],
      "source": [
        "test_datagen=ImageDataGenerator(rescale=1./255)"
      ]
    },
    {
      "cell_type": "code",
      "execution_count": 4,
      "metadata": {
        "colab": {
          "base_uri": "https://localhost:8080/"
        },
        "id": "GqbogorFe4du",
        "outputId": "7454d93e-0c81-435d-b2ce-2caa8ccfc16c"
      },
      "outputs": [
        {
          "name": "stdout",
          "output_type": "stream",
          "text": [
            "Found 11386 images belonging to 9 classes.\n"
          ]
        }
      ],
      "source": [
        "x_train=train_datagen.flow_from_directory(r\"/content/drive/MyDrive/Dataset Plant Disease/Veg-dataset/Veg-dataset/train_set\",target_size=(128,128),\n",
        "                                        class_mode='categorical',batch_size=24)"
      ]
    },
    {
      "cell_type": "code",
      "execution_count": 5,
      "metadata": {
        "colab": {
          "base_uri": "https://localhost:8080/"
        },
        "id": "t41I9cCZe4jU",
        "outputId": "6f048fea-c334-47a1-9bda-8ee47718f62f"
      },
      "outputs": [
        {
          "name": "stdout",
          "output_type": "stream",
          "text": [
            "Found 3416 images belonging to 9 classes.\n"
          ]
        }
      ],
      "source": [
        "x_test=test_datagen.flow_from_directory(r'/content/drive/MyDrive/Dataset Plant Disease/Veg-dataset/Veg-dataset/test_set',target_size=(128,128),class_mode='categorical',batch_size=24)"
      ]
    },
    {
      "cell_type": "markdown",
      "metadata": {
        "id": "Z_P48IpkMQUP"
      },
      "source": [
        "add layers"
      ]
    },
    {
      "cell_type": "code",
      "execution_count": 6,
      "metadata": {
        "id": "tt0JaC3Re4ne"
      },
      "outputs": [],
      "source": [
        "from tensorflow.keras.models import Sequential\n",
        "from tensorflow.keras.layers import Dense,Convolution2D,MaxPooling2D,Flatten"
      ]
    },
    {
      "cell_type": "code",
      "execution_count": 7,
      "metadata": {
        "id": "SXj7gyNoe4r6"
      },
      "outputs": [],
      "source": [
        "model=Sequential()"
      ]
    },
    {
      "cell_type": "code",
      "execution_count": 8,
      "metadata": {
        "id": "37X4b42Ye4wh"
      },
      "outputs": [],
      "source": [
        "model.add(Convolution2D(32,(3,3),input_shape=(128,128,3),activation='relu'))"
      ]
    },
    {
      "cell_type": "code",
      "execution_count": 9,
      "metadata": {
        "id": "fqvb80CUe40y"
      },
      "outputs": [],
      "source": [
        "model.add(MaxPooling2D(pool_size=(2,2)))"
      ]
    },
    {
      "cell_type": "code",
      "execution_count": 10,
      "metadata": {
        "id": "0ojK15C2e45c"
      },
      "outputs": [],
      "source": [
        "model.add(Flatten())"
      ]
    },
    {
      "cell_type": "code",
      "execution_count": 11,
      "metadata": {
        "colab": {
          "base_uri": "https://localhost:8080/"
        },
        "id": "u7ebxeARe4-Q",
        "outputId": "9d20cf34-2154-466b-deca-d6a1ccd9ced4"
      },
      "outputs": [
        {
          "name": "stdout",
          "output_type": "stream",
          "text": [
            "Model: \"sequential\"\n",
            "_________________________________________________________________\n",
            " Layer (type)                Output Shape              Param #   \n",
            "=================================================================\n",
            " conv2d (Conv2D)             (None, 126, 126, 32)      896       \n",
            "                                                                 \n",
            " max_pooling2d (MaxPooling2D  (None, 63, 63, 32)       0         \n",
            " )                                                               \n",
            "                                                                 \n",
            " flatten (Flatten)           (None, 127008)            0         \n",
            "                                                                 \n",
            "=================================================================\n",
            "Total params: 896\n",
            "Trainable params: 896\n",
            "Non-trainable params: 0\n",
            "_________________________________________________________________\n"
          ]
        }
      ],
      "source": [
        "model.summary()"
      ]
    },
    {
      "cell_type": "code",
      "execution_count": 12,
      "metadata": {
        "id": "oPZr6NfPe5DX"
      },
      "outputs": [],
      "source": [
        "model.add(Dense(300,activation='relu'))\n",
        "model.add(Dense(150,activation='relu'))"
      ]
    },
    {
      "cell_type": "code",
      "execution_count": 13,
      "metadata": {
        "id": "HyBjt4Toe5H8"
      },
      "outputs": [],
      "source": [
        "model.add(Dense(9,activation='softmax'))"
      ]
    },
    {
      "cell_type": "code",
      "execution_count": 14,
      "metadata": {
        "id": "B72JVemee5LO"
      },
      "outputs": [],
      "source": [
        "model.compile(loss='categorical_crossentropy',optimizer='adam',metrics=['accuracy'])"
      ]
    },
    {
      "cell_type": "code",
      "execution_count": 15,
      "metadata": {
        "colab": {
          "base_uri": "https://localhost:8080/"
        },
        "id": "lfKF3FUKe5Pq",
        "outputId": "b7858cad-b7c1-4f99-d4d6-30e88228193a"
      },
      "outputs": [
        {
          "data": {
            "text/plain": [
              "475"
            ]
          },
          "execution_count": 15,
          "metadata": {},
          "output_type": "execute_result"
        }
      ],
      "source": [
        "len(x_train)"
      ]
    },
    {
      "cell_type": "code",
      "execution_count": 16,
      "metadata": {
        "colab": {
          "base_uri": "https://localhost:8080/"
        },
        "id": "HHbczc_Ue5UI",
        "outputId": "1e29e0bb-ca45-4022-b948-ff8b5e15b6b8"
      },
      "outputs": [
        {
          "data": {
            "text/plain": [
              "51.583333333333336"
            ]
          },
          "execution_count": 16,
          "metadata": {},
          "output_type": "execute_result"
        }
      ],
      "source": [
        "1238/24"
      ]
    },
    {
      "cell_type": "markdown",
      "metadata": {
        "id": "kzAHGU9MMYwa"
      },
      "source": [
        "fit the model"
      ]
    },
    {
      "cell_type": "code",
      "execution_count": 17,
      "metadata": {
        "colab": {
          "base_uri": "https://localhost:8080/"
        },
        "id": "bAI_3vGZfewA",
        "outputId": "b947b3b7-284d-4a97-ba5f-0f1d85c65669"
      },
      "outputs": [
        {
          "name": "stdout",
          "output_type": "stream",
          "text": [
            "Epoch 1/10\n",
            "475/475 [==============================] - 3275s 7s/step - loss: 1.4156 - accuracy: 0.6092 - val_loss: 0.8031 - val_accuracy: 0.7178\n",
            "Epoch 2/10\n",
            "475/475 [==============================] - 375s 789ms/step - loss: 0.5598 - accuracy: 0.8004 - val_loss: 0.5123 - val_accuracy: 0.8150\n",
            "Epoch 3/10\n",
            "475/475 [==============================] - 362s 762ms/step - loss: 0.4634 - accuracy: 0.8402 - val_loss: 0.3696 - val_accuracy: 0.8718\n",
            "Epoch 4/10\n",
            "475/475 [==============================] - 364s 765ms/step - loss: 0.3832 - accuracy: 0.8669 - val_loss: 0.2470 - val_accuracy: 0.9183\n",
            "Epoch 5/10\n",
            "475/475 [==============================] - 364s 765ms/step - loss: 0.3210 - accuracy: 0.8873 - val_loss: 0.3565 - val_accuracy: 0.8741\n",
            "Epoch 6/10\n",
            "475/475 [==============================] - 360s 758ms/step - loss: 0.2831 - accuracy: 0.9040 - val_loss: 0.4657 - val_accuracy: 0.8352\n",
            "Epoch 7/10\n",
            "475/475 [==============================] - 371s 781ms/step - loss: 0.2453 - accuracy: 0.9135 - val_loss: 0.1700 - val_accuracy: 0.9458\n",
            "Epoch 8/10\n",
            "475/475 [==============================] - 361s 760ms/step - loss: 0.2693 - accuracy: 0.9062 - val_loss: 0.3006 - val_accuracy: 0.8967\n",
            "Epoch 9/10\n",
            "475/475 [==============================] - 373s 786ms/step - loss: 0.2177 - accuracy: 0.9257 - val_loss: 0.1678 - val_accuracy: 0.9429\n",
            "Epoch 10/10\n",
            "475/475 [==============================] - 373s 786ms/step - loss: 0.2082 - accuracy: 0.9288 - val_loss: 0.1483 - val_accuracy: 0.9494\n"
          ]
        },
        {
          "data": {
            "text/plain": [
              "<keras.callbacks.History at 0x7f59dba75350>"
            ]
          },
          "execution_count": 17,
          "metadata": {},
          "output_type": "execute_result"
        }
      ],
      "source": [
        "model.fit(x_train,steps_per_epoch=len(x_train),validation_data=x_test,validation_steps=len(x_test),epochs=10)"
      ]
    },
    {
      "cell_type": "markdown",
      "metadata": {
        "id": "Gp19lkjrMceA"
      },
      "source": [
        "save the model"
      ]
    },
    {
      "cell_type": "code",
      "execution_count": 19,
      "metadata": {
        "id": "hNrYA7DAfkE8"
      },
      "outputs": [],
      "source": [
        "model.save('vegetabledata.h5')"
      ]
    }
  ],
  "metadata": {
    "colab": {
      "collapsed_sections": [],
      "provenance": []
    },
    "kernelspec": {
      "display_name": "Python 3",
      "name": "python3"
    },
    "language_info": {
      "name": "python"
    }
  },
  "nbformat": 4,
  "nbformat_minor": 0
}

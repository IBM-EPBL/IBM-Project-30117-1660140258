{
  "cells": [
    {
      "cell_type": "markdown",
      "metadata": {
        "id": "gh-xTYCoLvKF"
      },
      "source": [
        "import the libraries"
      ]
    },
    {
      "cell_type": "code",
      "execution_count": 15,
      "metadata": {
        "id": "n7H6rDouLskg"
      },
      "outputs": [],
      "source": [
        "from tensorflow.keras.preprocessing.image import ImageDataGenerator\n",
        "from tensorflow.keras.models import Sequential\n",
        "from tensorflow.keras.layers import Dense,Convolution2D,MaxPooling2D,Flatten \n",
        "import numpy as np\n",
        "from tensorflow.keras.models import load_model\n",
        "from tensorflow.keras.preprocessing import image"
      ]
    },
    {
      "cell_type": "markdown",
      "metadata": {
        "id": "uRksa5mm2DLp"
      },
      "source": [
        "Image Augmentation"
      ]
    },
    {
      "cell_type": "code",
      "execution_count": 3,
      "metadata": {
        "id": "uLEsOA6U2FSz"
      },
      "outputs": [],
      "source": [
        "from tensorflow.keras.preprocessing.image import ImageDataGenerator\n",
        "train_datagen=ImageDataGenerator(rescale=1./255,zoom_range=0.2,horizontal_flip=True,vertical_flip=False)\n",
        "test_datagen=ImageDataGenerator(rescale=1./255)"
      ]
    },
    {
      "cell_type": "code",
      "execution_count": 4,
      "metadata": {
        "colab": {
          "base_uri": "https://localhost:8080/"
        },
        "id": "AVH9yPJEz4EI",
        "outputId": "bdbbe29f-2448-44a7-abe3-9548de5fd9ac"
      },
      "outputs": [
        {
          "name": "stdout",
          "output_type": "stream",
          "text": [
            "Found 5384 images belonging to 6 classes.\n"
          ]
        }
      ],
      "source": [
        "x_train=train_datagen.flow_from_directory(r'/content/drive/MyDrive/Dataset Plant Disease/fruit-dataset/fruit-dataset/train',target_size=(128,128),class_mode='categorical',batch_size=24)"
      ]
    },
    {
      "cell_type": "code",
      "execution_count": 5,
      "metadata": {
        "colab": {
          "base_uri": "https://localhost:8080/"
        },
        "id": "YwNUQ8tFz_0I",
        "outputId": "e157d79b-e844-48c5-95df-390b11625266"
      },
      "outputs": [
        {
          "name": "stdout",
          "output_type": "stream",
          "text": [
            "Found 1686 images belonging to 6 classes.\n"
          ]
        }
      ],
      "source": [
        "x_test=test_datagen.flow_from_directory(r\"/content/drive/MyDrive/Dataset Plant Disease/fruit-dataset/fruit-dataset/test\",target_size=(128,128),\n",
        "                                        class_mode='categorical',batch_size=24)"
      ]
    },
    {
      "cell_type": "markdown",
      "metadata": {
        "id": "Ix-2udSC2Mf_"
      },
      "source": [
        "Create the model"
      ]
    },
    {
      "cell_type": "code",
      "execution_count": 6,
      "metadata": {
        "id": "pT8FMec-15Io"
      },
      "outputs": [],
      "source": [
        "from tensorflow.keras.models import Sequential\n",
        "from tensorflow.keras.layers import Dense,Convolution2D,MaxPooling2D,Flatten"
      ]
    },
    {
      "cell_type": "markdown",
      "metadata": {
        "id": "ufd1WbeO2ZNN"
      },
      "source": [
        "Add Layers"
      ]
    },
    {
      "cell_type": "code",
      "execution_count": 7,
      "metadata": {
        "id": "WIuow86b2aHk"
      },
      "outputs": [],
      "source": [
        "model=Sequential()"
      ]
    },
    {
      "cell_type": "code",
      "execution_count": 9,
      "metadata": {
        "id": "ZKWmAWI52msD"
      },
      "outputs": [],
      "source": [
        "model.add(Convolution2D(32,(3,3),input_shape=(128,128,3),activation='relu'))"
      ]
    },
    {
      "cell_type": "code",
      "execution_count": 10,
      "metadata": {
        "colab": {
          "base_uri": "https://localhost:8080/"
        },
        "id": "EyHA7b_-2rT5",
        "outputId": "a9df7130-bb33-4485-c6c4-e42ac607c604"
      },
      "outputs": [
        {
          "name": "stdout",
          "output_type": "stream",
          "text": [
            "Model: \"sequential\"\n",
            "_________________________________________________________________\n",
            " Layer (type)                Output Shape              Param #   \n",
            "=================================================================\n",
            " conv2d (Conv2D)             (None, 126, 126, 32)      896       \n",
            "                                                                 \n",
            " max_pooling2d (MaxPooling2D  (None, 63, 63, 32)       0         \n",
            " )                                                               \n",
            "                                                                 \n",
            " flatten (Flatten)           (None, 127008)            0         \n",
            "                                                                 \n",
            "=================================================================\n",
            "Total params: 896\n",
            "Trainable params: 896\n",
            "Non-trainable params: 0\n",
            "_________________________________________________________________\n"
          ]
        }
      ],
      "source": [
        "model.add(MaxPooling2D(pool_size=(2,2)))\n",
        "model.add(Flatten())\n",
        "model.summary()"
      ]
    },
    {
      "cell_type": "code",
      "execution_count": 11,
      "metadata": {
        "id": "nyPanIG823_P"
      },
      "outputs": [],
      "source": [
        "32*(3*3*3+1)\n",
        "model.add(Dense(300,activation='relu'))\n",
        "model.add(Dense(150,activation='relu'))"
      ]
    },
    {
      "cell_type": "code",
      "execution_count": 12,
      "metadata": {
        "colab": {
          "base_uri": "https://localhost:8080/"
        },
        "id": "NU4_gYX-24M_",
        "outputId": "5737b007-a7f8-4f5d-b48e-63746cb3d26e"
      },
      "outputs": [
        {
          "data": {
            "text/plain": [
              "225"
            ]
          },
          "execution_count": 12,
          "metadata": {},
          "output_type": "execute_result"
        }
      ],
      "source": [
        "model.add(Dense(6,activation='softmax'))\n",
        "model.compile(loss='categorical_crossentropy',optimizer='adam',metrics=['accuracy'])\n",
        "len(x_train)"
      ]
    },
    {
      "cell_type": "code",
      "execution_count": 13,
      "metadata": {
        "colab": {
          "base_uri": "https://localhost:8080/"
        },
        "id": "7PrYOtk129he",
        "outputId": "fe8e3f62-bc64-48df-9419-c35687c67c32"
      },
      "outputs": [
        {
          "data": {
            "text/plain": [
              "51.583333333333336"
            ]
          },
          "execution_count": 13,
          "metadata": {},
          "output_type": "execute_result"
        }
      ],
      "source": [
        "1238/24"
      ]
    },
    {
      "cell_type": "markdown",
      "metadata": {
        "id": "akpc8tcI4aL8"
      },
      "source": [
        "fit the model"
      ]
    },
    {
      "cell_type": "code",
      "execution_count": 14,
      "metadata": {
        "colab": {
          "base_uri": "https://localhost:8080/"
        },
        "id": "ZZ0nwIgA3DXi",
        "outputId": "a8ba547c-5600-4dbe-c1b1-32e1fe08d716"
      },
      "outputs": [
        {
          "name": "stdout",
          "output_type": "stream",
          "text": [
            "Epoch 1/10\n",
            "225/225 [==============================] - 2639s 12s/step - loss: 1.3354 - accuracy: 0.7652 - val_loss: 0.4907 - val_accuracy: 0.8215\n",
            "Epoch 2/10\n",
            "225/225 [==============================] - 172s 762ms/step - loss: 0.2829 - accuracy: 0.9008 - val_loss: 0.1736 - val_accuracy: 0.9383\n",
            "Epoch 3/10\n",
            "225/225 [==============================] - 179s 794ms/step - loss: 0.2056 - accuracy: 0.9296 - val_loss: 0.1954 - val_accuracy: 0.9312\n",
            "Epoch 4/10\n",
            "225/225 [==============================] - 172s 765ms/step - loss: 0.1694 - accuracy: 0.9383 - val_loss: 0.2187 - val_accuracy: 0.9253\n",
            "Epoch 5/10\n",
            "225/225 [==============================] - 179s 796ms/step - loss: 0.1539 - accuracy: 0.9461 - val_loss: 0.1366 - val_accuracy: 0.9543\n",
            "Epoch 6/10\n",
            "225/225 [==============================] - 172s 765ms/step - loss: 0.1428 - accuracy: 0.9491 - val_loss: 0.1668 - val_accuracy: 0.9442\n",
            "Epoch 7/10\n",
            "225/225 [==============================] - 175s 774ms/step - loss: 0.1333 - accuracy: 0.9538 - val_loss: 0.1976 - val_accuracy: 0.9253\n",
            "Epoch 8/10\n",
            "225/225 [==============================] - 174s 774ms/step - loss: 0.1172 - accuracy: 0.9590 - val_loss: 0.0944 - val_accuracy: 0.9674\n",
            "Epoch 9/10\n",
            "225/225 [==============================] - 172s 763ms/step - loss: 0.1143 - accuracy: 0.9569 - val_loss: 0.1306 - val_accuracy: 0.9561\n",
            "Epoch 10/10\n",
            "225/225 [==============================] - 179s 795ms/step - loss: 0.0913 - accuracy: 0.9673 - val_loss: 0.1848 - val_accuracy: 0.9460\n"
          ]
        },
        {
          "data": {
            "text/plain": [
              "<keras.callbacks.History at 0x7f99e4ef10d0>"
            ]
          },
          "execution_count": 14,
          "metadata": {},
          "output_type": "execute_result"
        }
      ],
      "source": [
        "model.fit(x_train,steps_per_epoch=len(x_train),validation_data=x_test,validation_steps=len(x_test),epochs=10)"
      ]
    },
    {
      "cell_type": "markdown",
      "metadata": {
        "id": "1RvEC2Pn4glw"
      },
      "source": [
        "save the model"
      ]
    },
    {
      "cell_type": "code",
      "execution_count": 16,
      "metadata": {
        "id": "h5lrYF8k3J0R"
      },
      "outputs": [],
      "source": [
        "model.save('fruitdata.h5')"
      ]
    }
  ],
  "metadata": {
    "colab": {
      "collapsed_sections": [],
      "provenance": []
    },
    "kernelspec": {
      "display_name": "Python 3",
      "name": "python3"
    },
    "language_info": {
      "name": "python"
    }
  },
  "nbformat": 4,
  "nbformat_minor": 0
}

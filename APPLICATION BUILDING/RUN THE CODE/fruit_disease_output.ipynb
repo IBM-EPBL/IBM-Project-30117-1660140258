{
  "nbformat": 4,
  "nbformat_minor": 0,
  "metadata": {
    "colab": {
      "provenance": [],
      "collapsed_sections": []
    },
    "kernelspec": {
      "name": "python3",
      "display_name": "Python 3"
    },
    "language_info": {
      "name": "python"
    }
  },
  "cells": [
    {
      "cell_type": "markdown",
      "source": [
        "import the libraries"
      ],
      "metadata": {
        "id": "gh-xTYCoLvKF"
      }
    },
    {
      "cell_type": "code",
      "source": [
        "from tensorflow.keras.preprocessing.image import ImageDataGenerator\n",
        "from tensorflow.keras.models import Sequential\n",
        "from tensorflow.keras.layers import Dense,Convolution2D,MaxPooling2D,Flatten \n",
        "import numpy as np\n",
        "from tensorflow.keras.models import load_model\n",
        "from tensorflow.keras.preprocessing import image"
      ],
      "metadata": {
        "id": "n7H6rDouLskg"
      },
      "execution_count": 15,
      "outputs": []
    },
    {
      "cell_type": "markdown",
      "source": [
        "Image Augmentation"
      ],
      "metadata": {
        "id": "uRksa5mm2DLp"
      }
    },
    {
      "cell_type": "code",
      "source": [
        "from tensorflow.keras.preprocessing.image import ImageDataGenerator\n",
        "train_datagen=ImageDataGenerator(rescale=1./255,zoom_range=0.2,horizontal_flip=True,vertical_flip=False)\n",
        "test_datagen=ImageDataGenerator(rescale=1./255)"
      ],
      "metadata": {
        "id": "uLEsOA6U2FSz"
      },
      "execution_count": 3,
      "outputs": []
    },
    {
      "cell_type": "code",
      "source": [
        "x_train=train_datagen.flow_from_directory(r'/content/drive/MyDrive/Dataset Plant Disease/fruit-dataset/fruit-dataset/train',target_size=(128,128),class_mode='categorical',batch_size=24)"
      ],
      "metadata": {
        "colab": {
          "base_uri": "https://localhost:8080/"
        },
        "id": "AVH9yPJEz4EI",
        "outputId": "bdbbe29f-2448-44a7-abe3-9548de5fd9ac"
      },
      "execution_count": 4,
      "outputs": [
        {
          "output_type": "stream",
          "name": "stdout",
          "text": [
            "Found 5384 images belonging to 6 classes.\n"
          ]
        }
      ]
    },
    {
      "cell_type": "code",
      "source": [
        "x_test=test_datagen.flow_from_directory(r\"/content/drive/MyDrive/Dataset Plant Disease/fruit-dataset/fruit-dataset/test\",target_size=(128,128),\n",
        "                                        class_mode='categorical',batch_size=24)"
      ],
      "metadata": {
        "colab": {
          "base_uri": "https://localhost:8080/"
        },
        "id": "YwNUQ8tFz_0I",
        "outputId": "e157d79b-e844-48c5-95df-390b11625266"
      },
      "execution_count": 5,
      "outputs": [
        {
          "output_type": "stream",
          "name": "stdout",
          "text": [
            "Found 1686 images belonging to 6 classes.\n"
          ]
        }
      ]
    },
    {
      "cell_type": "markdown",
      "source": [
        "Create the model"
      ],
      "metadata": {
        "id": "Ix-2udSC2Mf_"
      }
    },
    {
      "cell_type": "code",
      "source": [
        "from tensorflow.keras.models import Sequential\n",
        "from tensorflow.keras.layers import Dense,Convolution2D,MaxPooling2D,Flatten"
      ],
      "metadata": {
        "id": "pT8FMec-15Io"
      },
      "execution_count": 6,
      "outputs": []
    },
    {
      "cell_type": "markdown",
      "source": [
        "Add Layers"
      ],
      "metadata": {
        "id": "ufd1WbeO2ZNN"
      }
    },
    {
      "cell_type": "code",
      "source": [
        "model=Sequential()"
      ],
      "metadata": {
        "id": "WIuow86b2aHk"
      },
      "execution_count": 7,
      "outputs": []
    },
    {
      "cell_type": "code",
      "source": [
        "model.add(Convolution2D(32,(3,3),input_shape=(128,128,3),activation='relu'))"
      ],
      "metadata": {
        "id": "ZKWmAWI52msD"
      },
      "execution_count": 9,
      "outputs": []
    },
    {
      "cell_type": "code",
      "source": [
        "model.add(MaxPooling2D(pool_size=(2,2)))\n",
        "model.add(Flatten())\n",
        "model.summary()"
      ],
      "metadata": {
        "colab": {
          "base_uri": "https://localhost:8080/"
        },
        "id": "EyHA7b_-2rT5",
        "outputId": "a9df7130-bb33-4485-c6c4-e42ac607c604"
      },
      "execution_count": 10,
      "outputs": [
        {
          "output_type": "stream",
          "name": "stdout",
          "text": [
            "Model: \"sequential\"\n",
            "_________________________________________________________________\n",
            " Layer (type)                Output Shape              Param #   \n",
            "=================================================================\n",
            " conv2d (Conv2D)             (None, 126, 126, 32)      896       \n",
            "                                                                 \n",
            " max_pooling2d (MaxPooling2D  (None, 63, 63, 32)       0         \n",
            " )                                                               \n",
            "                                                                 \n",
            " flatten (Flatten)           (None, 127008)            0         \n",
            "                                                                 \n",
            "=================================================================\n",
            "Total params: 896\n",
            "Trainable params: 896\n",
            "Non-trainable params: 0\n",
            "_________________________________________________________________\n"
          ]
        }
      ]
    },
    {
      "cell_type": "code",
      "source": [
        "32*(3*3*3+1)\n",
        "model.add(Dense(300,activation='relu'))\n",
        "model.add(Dense(150,activation='relu'))"
      ],
      "metadata": {
        "id": "nyPanIG823_P"
      },
      "execution_count": 11,
      "outputs": []
    },
    {
      "cell_type": "code",
      "source": [
        "model.add(Dense(6,activation='softmax'))\n",
        "model.compile(loss='categorical_crossentropy',optimizer='adam',metrics=['accuracy'])\n",
        "len(x_train)"
      ],
      "metadata": {
        "colab": {
          "base_uri": "https://localhost:8080/"
        },
        "id": "NU4_gYX-24M_",
        "outputId": "5737b007-a7f8-4f5d-b48e-63746cb3d26e"
      },
      "execution_count": 12,
      "outputs": [
        {
          "output_type": "execute_result",
          "data": {
            "text/plain": [
              "225"
            ]
          },
          "metadata": {},
          "execution_count": 12
        }
      ]
    },
    {
      "cell_type": "code",
      "source": [
        "1238/24"
      ],
      "metadata": {
        "colab": {
          "base_uri": "https://localhost:8080/"
        },
        "id": "7PrYOtk129he",
        "outputId": "fe8e3f62-bc64-48df-9419-c35687c67c32"
      },
      "execution_count": 13,
      "outputs": [
        {
          "output_type": "execute_result",
          "data": {
            "text/plain": [
              "51.583333333333336"
            ]
          },
          "metadata": {},
          "execution_count": 13
        }
      ]
    },
    {
      "cell_type": "markdown",
      "source": [
        "fit the model"
      ],
      "metadata": {
        "id": "akpc8tcI4aL8"
      }
    },
    {
      "cell_type": "code",
      "source": [
        "model.fit(x_train,steps_per_epoch=len(x_train),validation_data=x_test,validation_steps=len(x_test),epochs=10)"
      ],
      "metadata": {
        "colab": {
          "base_uri": "https://localhost:8080/"
        },
        "id": "ZZ0nwIgA3DXi",
        "outputId": "a8ba547c-5600-4dbe-c1b1-32e1fe08d716"
      },
      "execution_count": 14,
      "outputs": [
        {
          "output_type": "stream",
          "name": "stdout",
          "text": [
            "Epoch 1/10\n",
            "225/225 [==============================] - 2639s 12s/step - loss: 1.3354 - accuracy: 0.7652 - val_loss: 0.4907 - val_accuracy: 0.8215\n",
            "Epoch 2/10\n",
            "225/225 [==============================] - 172s 762ms/step - loss: 0.2829 - accuracy: 0.9008 - val_loss: 0.1736 - val_accuracy: 0.9383\n",
            "Epoch 3/10\n",
            "225/225 [==============================] - 179s 794ms/step - loss: 0.2056 - accuracy: 0.9296 - val_loss: 0.1954 - val_accuracy: 0.9312\n",
            "Epoch 4/10\n",
            "225/225 [==============================] - 172s 765ms/step - loss: 0.1694 - accuracy: 0.9383 - val_loss: 0.2187 - val_accuracy: 0.9253\n",
            "Epoch 5/10\n",
            "225/225 [==============================] - 179s 796ms/step - loss: 0.1539 - accuracy: 0.9461 - val_loss: 0.1366 - val_accuracy: 0.9543\n",
            "Epoch 6/10\n",
            "225/225 [==============================] - 172s 765ms/step - loss: 0.1428 - accuracy: 0.9491 - val_loss: 0.1668 - val_accuracy: 0.9442\n",
            "Epoch 7/10\n",
            "225/225 [==============================] - 175s 774ms/step - loss: 0.1333 - accuracy: 0.9538 - val_loss: 0.1976 - val_accuracy: 0.9253\n",
            "Epoch 8/10\n",
            "225/225 [==============================] - 174s 774ms/step - loss: 0.1172 - accuracy: 0.9590 - val_loss: 0.0944 - val_accuracy: 0.9674\n",
            "Epoch 9/10\n",
            "225/225 [==============================] - 172s 763ms/step - loss: 0.1143 - accuracy: 0.9569 - val_loss: 0.1306 - val_accuracy: 0.9561\n",
            "Epoch 10/10\n",
            "225/225 [==============================] - 179s 795ms/step - loss: 0.0913 - accuracy: 0.9673 - val_loss: 0.1848 - val_accuracy: 0.9460\n"
          ]
        },
        {
          "output_type": "execute_result",
          "data": {
            "text/plain": [
              "<keras.callbacks.History at 0x7f99e4ef10d0>"
            ]
          },
          "metadata": {},
          "execution_count": 14
        }
      ]
    },
    {
      "cell_type": "markdown",
      "source": [
        "save the model"
      ],
      "metadata": {
        "id": "1RvEC2Pn4glw"
      }
    },
    {
      "cell_type": "code",
      "source": [
        "model.save('fruitdata.h5')"
      ],
      "metadata": {
        "id": "h5lrYF8k3J0R"
      },
      "execution_count": 16,
      "outputs": []
    },
    {
      "cell_type": "markdown",
      "source": [
        "Testing the model"
      ],
      "metadata": {
        "id": "LVl5E2sUKcKW"
      }
    },
    {
      "cell_type": "code",
      "source": [
        "model=load_model('fruitdata.h5')"
      ],
      "metadata": {
        "id": "YKB8FjCP3eWG"
      },
      "execution_count": 17,
      "outputs": []
    },
    {
      "cell_type": "code",
      "source": [
        "import numpy as np\n",
        "from tensorflow.keras.models import load_model\n",
        "from tensorflow.keras.preprocessing import image"
      ],
      "metadata": {
        "id": "RabOWkm75f1V"
      },
      "execution_count": 18,
      "outputs": []
    },
    {
      "cell_type": "code",
      "source": [
        "img=image.load_img(r\"/content/drive/MyDrive/Dataset Plant Disease/fruit-dataset/fruit-dataset/test/Apple___healthy/01efa999-757d-487e-8250-27c7854c0ca8___RS_HL 7515.JPG\",target_size=(128,128))"
      ],
      "metadata": {
        "id": "ElX_VFSz3hKW"
      },
      "execution_count": 19,
      "outputs": []
    },
    {
      "cell_type": "code",
      "source": [
        "img"
      ],
      "metadata": {
        "colab": {
          "base_uri": "https://localhost:8080/",
          "height": 145
        },
        "id": "cF0qghE15oLY",
        "outputId": "b5dc3026-9e73-4285-fb41-8da8fc98f466"
      },
      "execution_count": 21,
      "outputs": [
        {
          "output_type": "execute_result",
          "data": {
            "text/plain": [
              "<PIL.Image.Image image mode=RGB size=128x128 at 0x7F99DE032150>"
            ],
            "image/png": "[encoded data removed]"
          },
          "metadata": {},
          "execution_count": 21
        }
      ]
    },
    {
      "cell_type": "code",
      "source": [
        "img=image.load_img(r\"/content/drive/MyDrive/Dataset Plant Disease/fruit-dataset/fruit-dataset/test/Apple___healthy/01efa999-757d-487e-8250-27c7854c0ca8___RS_HL 7515.JPG\",target_size=(128,128))\n",
        "img"
      ],
      "metadata": {
        "colab": {
          "base_uri": "https://localhost:8080/",
          "height": 145
        },
        "id": "FucC-xPp5oTb",
        "outputId": "f88304a3-f06c-4496-995b-513ebd979f25"
      },
      "execution_count": 22,
      "outputs": [
        {
          "output_type": "execute_result",
          "data": {
            "text/plain": [
              "<PIL.Image.Image image mode=RGB size=128x128 at 0x7F99DE032A10>"
            ],
            "image/png": "[encoded data removed]"
          },
          "metadata": {},
          "execution_count": 22
        }
      ]
    },
    {
      "cell_type": "code",
      "source": [
        "x=image.img_to_array(img)\n",
        "x"
      ],
      "metadata": {
        "colab": {
          "base_uri": "https://localhost:8080/"
        },
        "id": "e_kIffRY5oag",
        "outputId": "a0b20d7b-d9a5-49e3-89cf-435344b90a62"
      },
      "execution_count": 23,
      "outputs": [
        {
          "output_type": "execute_result",
          "data": {
            "text/plain": [
              "array([[[111., 122., 152.],\n",
              "        [110., 121., 151.],\n",
              "        [118., 129., 159.],\n",
              "        ...,\n",
              "        [184., 198., 225.],\n",
              "        [187., 201., 228.],\n",
              "        [180., 194., 221.]],\n",
              "\n",
              "       [[124., 135., 165.],\n",
              "        [117., 128., 158.],\n",
              "        [121., 132., 162.],\n",
              "        ...,\n",
              "        [178., 192., 219.],\n",
              "        [191., 205., 232.],\n",
              "        [179., 193., 220.]],\n",
              "\n",
              "       [[123., 134., 164.],\n",
              "        [117., 128., 158.],\n",
              "        [114., 125., 155.],\n",
              "        ...,\n",
              "        [180., 194., 221.],\n",
              "        [189., 203., 230.],\n",
              "        [179., 193., 220.]],\n",
              "\n",
              "       ...,\n",
              "\n",
              "       [[114., 128., 157.],\n",
              "        [118., 132., 161.],\n",
              "        [125., 139., 168.],\n",
              "        ...,\n",
              "        [177., 191., 217.],\n",
              "        [187., 199., 223.],\n",
              "        [180., 192., 216.]],\n",
              "\n",
              "       [[120., 134., 163.],\n",
              "        [125., 139., 168.],\n",
              "        [122., 136., 165.],\n",
              "        ...,\n",
              "        [189., 197., 216.],\n",
              "        [188., 197., 214.],\n",
              "        [186., 195., 210.]],\n",
              "\n",
              "       [[127., 141., 170.],\n",
              "        [118., 132., 161.],\n",
              "        [118., 132., 161.],\n",
              "        ...,\n",
              "        [160., 167., 183.],\n",
              "        [172., 180., 191.],\n",
              "        [190., 199., 208.]]], dtype=float32)"
            ]
          },
          "metadata": {},
          "execution_count": 23
        }
      ]
    },
    {
      "cell_type": "code",
      "source": [
        "x=np.expand_dims(x,axis=0)\n",
        "x"
      ],
      "metadata": {
        "colab": {
          "base_uri": "https://localhost:8080/"
        },
        "id": "MVvpH77-5yM8",
        "outputId": "a54d2ee9-a58f-46d4-8db0-3a82a71c7755"
      },
      "execution_count": 24,
      "outputs": [
        {
          "output_type": "execute_result",
          "data": {
            "text/plain": [
              "array([[[[111., 122., 152.],\n",
              "         [110., 121., 151.],\n",
              "         [118., 129., 159.],\n",
              "         ...,\n",
              "         [184., 198., 225.],\n",
              "         [187., 201., 228.],\n",
              "         [180., 194., 221.]],\n",
              "\n",
              "        [[124., 135., 165.],\n",
              "         [117., 128., 158.],\n",
              "         [121., 132., 162.],\n",
              "         ...,\n",
              "         [178., 192., 219.],\n",
              "         [191., 205., 232.],\n",
              "         [179., 193., 220.]],\n",
              "\n",
              "        [[123., 134., 164.],\n",
              "         [117., 128., 158.],\n",
              "         [114., 125., 155.],\n",
              "         ...,\n",
              "         [180., 194., 221.],\n",
              "         [189., 203., 230.],\n",
              "         [179., 193., 220.]],\n",
              "\n",
              "        ...,\n",
              "\n",
              "        [[114., 128., 157.],\n",
              "         [118., 132., 161.],\n",
              "         [125., 139., 168.],\n",
              "         ...,\n",
              "         [177., 191., 217.],\n",
              "         [187., 199., 223.],\n",
              "         [180., 192., 216.]],\n",
              "\n",
              "        [[120., 134., 163.],\n",
              "         [125., 139., 168.],\n",
              "         [122., 136., 165.],\n",
              "         ...,\n",
              "         [189., 197., 216.],\n",
              "         [188., 197., 214.],\n",
              "         [186., 195., 210.]],\n",
              "\n",
              "        [[127., 141., 170.],\n",
              "         [118., 132., 161.],\n",
              "         [118., 132., 161.],\n",
              "         ...,\n",
              "         [160., 167., 183.],\n",
              "         [172., 180., 191.],\n",
              "         [190., 199., 208.]]]], dtype=float32)"
            ]
          },
          "metadata": {},
          "execution_count": 24
        }
      ]
    },
    {
      "cell_type": "code",
      "source": [
        "x"
      ],
      "metadata": {
        "colab": {
          "base_uri": "https://localhost:8080/"
        },
        "id": "X6ngEokq58Ew",
        "outputId": "7ac80233-1c25-4675-eccd-a3314ac6ec39"
      },
      "execution_count": 25,
      "outputs": [
        {
          "output_type": "execute_result",
          "data": {
            "text/plain": [
              "array([[[[111., 122., 152.],\n",
              "         [110., 121., 151.],\n",
              "         [118., 129., 159.],\n",
              "         ...,\n",
              "         [184., 198., 225.],\n",
              "         [187., 201., 228.],\n",
              "         [180., 194., 221.]],\n",
              "\n",
              "        [[124., 135., 165.],\n",
              "         [117., 128., 158.],\n",
              "         [121., 132., 162.],\n",
              "         ...,\n",
              "         [178., 192., 219.],\n",
              "         [191., 205., 232.],\n",
              "         [179., 193., 220.]],\n",
              "\n",
              "        [[123., 134., 164.],\n",
              "         [117., 128., 158.],\n",
              "         [114., 125., 155.],\n",
              "         ...,\n",
              "         [180., 194., 221.],\n",
              "         [189., 203., 230.],\n",
              "         [179., 193., 220.]],\n",
              "\n",
              "        ...,\n",
              "\n",
              "        [[114., 128., 157.],\n",
              "         [118., 132., 161.],\n",
              "         [125., 139., 168.],\n",
              "         ...,\n",
              "         [177., 191., 217.],\n",
              "         [187., 199., 223.],\n",
              "         [180., 192., 216.]],\n",
              "\n",
              "        [[120., 134., 163.],\n",
              "         [125., 139., 168.],\n",
              "         [122., 136., 165.],\n",
              "         ...,\n",
              "         [189., 197., 216.],\n",
              "         [188., 197., 214.],\n",
              "         [186., 195., 210.]],\n",
              "\n",
              "        [[127., 141., 170.],\n",
              "         [118., 132., 161.],\n",
              "         [118., 132., 161.],\n",
              "         ...,\n",
              "         [160., 167., 183.],\n",
              "         [172., 180., 191.],\n",
              "         [190., 199., 208.]]]], dtype=float32)"
            ]
          },
          "metadata": {},
          "execution_count": 25
        }
      ]
    },
    {
      "cell_type": "code",
      "source": [
        "y=np.argmax(model.predict(x),axis=1)"
      ],
      "metadata": {
        "colab": {
          "base_uri": "https://localhost:8080/"
        },
        "id": "H8zvkbcx6BUT",
        "outputId": "efb6f7f1-512a-47e5-f658-bc2e18d26c49"
      },
      "execution_count": 26,
      "outputs": [
        {
          "output_type": "stream",
          "name": "stdout",
          "text": [
            "1/1 [==============================] - 0s 201ms/step\n"
          ]
        }
      ]
    },
    {
      "cell_type": "code",
      "source": [
        "index=['Apple___Black_rot','Apple___healthy','Corn_(maize)___Northern_Leaf_Blight','Corn_(maize)___healthy','Peach___Bacterial_spot','Peach___healthy']\n",
        "index[y[0]]"
      ],
      "metadata": {
        "colab": {
          "base_uri": "https://localhost:8080/",
          "height": 35
        },
        "id": "shrEIgc06Ba_",
        "outputId": "3b9cbf3d-8cd9-4645-ae1a-0967c63e0dd4"
      },
      "execution_count": 27,
      "outputs": [
        {
          "output_type": "execute_result",
          "data": {
            "text/plain": [
              "'Apple___healthy'"
            ],
            "application/vnd.google.colaboratory.intrinsic+json": {
              "type": "string"
            }
          },
          "metadata": {},
          "execution_count": 27
        }
      ]
    },
    {
      "cell_type": "code",
      "source": [
        "img=image.load_img(r\"/content/drive/MyDrive/Dataset Plant Disease/fruit-dataset/fruit-dataset/test/Apple___healthy/01efa999-757d-487e-8250-27c7854c0ca8___RS_HL 7515.JPG\",target_size=(128,128))\n",
        "x=image.img_to_array(img)\n",
        "x=np.expand_dims(x,axis=0)\n",
        "y=np.argmax(model.predict(x),axis=1)\n",
        "index=['Apple___Black_rot','Apple___healthy','Corn_(maize)___Northern_Leaf_Blight','Corn_(maize)___healthy','Peach___Bacterial_spot','Peach___healthy']\n",
        "index[y[0]]"
      ],
      "metadata": {
        "colab": {
          "base_uri": "https://localhost:8080/",
          "height": 53
        },
        "id": "zwN32qvq6Blq",
        "outputId": "3b4e87db-42d4-4c41-e75a-bb636bae9360"
      },
      "execution_count": 28,
      "outputs": [
        {
          "output_type": "stream",
          "name": "stdout",
          "text": [
            "1/1 [==============================] - 0s 48ms/step\n"
          ]
        },
        {
          "output_type": "execute_result",
          "data": {
            "text/plain": [
              "'Apple___healthy'"
            ],
            "application/vnd.google.colaboratory.intrinsic+json": {
              "type": "string"
            }
          },
          "metadata": {},
          "execution_count": 28
        }
      ]
    }
  ]
}